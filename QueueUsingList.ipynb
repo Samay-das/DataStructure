{
 "cells": [
  {
   "cell_type": "markdown",
   "id": "df9b2c6d-a243-41db-8b6f-481eca5c53b0",
   "metadata": {},
   "source": [
    "## Queue Implentation Using List In Python"
   ]
  },
  {
   "cell_type": "markdown",
   "id": "672cd1c9-e34d-40fc-bef6-27af1a02136f",
   "metadata": {},
   "source": [
    "### First define a empty list named queue "
   ]
  },
  {
   "cell_type": "code",
   "execution_count": 1,
   "id": "e7543399-cf86-42cd-a4ee-0da7c4708898",
   "metadata": {},
   "outputs": [],
   "source": [
    "queue = []"
   ]
  },
  {
   "cell_type": "markdown",
   "id": "779a4c6f-893d-447d-bfc1-bb33dbb4ad8e",
   "metadata": {},
   "source": [
    "### Define a function name enqueue() which will first check if is full or not and if it is not full insert the element/item using append() method of list"
   ]
  },
  {
   "cell_type": "code",
   "execution_count": 8,
   "id": "3475791f-8ef4-4945-9c0e-36f526dc4a09",
   "metadata": {},
   "outputs": [],
   "source": [
    "def enqueue():\n",
    "    if len(queue) == size:\n",
    "        print(\"Queue is Full\")\n",
    "    else:\n",
    "        item = input(\"Please enter the item : \")\n",
    "        queue.append(item)\n",
    "        print(item,\" is added to the Queue\")"
   ]
  },
  {
   "cell_type": "markdown",
   "id": "bbbf260b-f029-4aef-8c97-be5aa83edb04",
   "metadata": {},
   "source": [
    "### Define a dequeue() function which will first check if queue is empty or not and if it is not empty it will delete the first element/item using pop() method of the list but we want to delete the first element but only pop method remove the last element so at that case we give the index 0 in pop() method which will remove the first element/item from the Queue"
   ]
  },
  {
   "cell_type": "code",
   "execution_count": 9,
   "id": "470dbeee-b907-4955-b15b-bf81d1ffd4a1",
   "metadata": {},
   "outputs": [],
   "source": [
    "def dequeue():\n",
    "    if not queue:\n",
    "        print(\"Queue is Empty\")\n",
    "    else:\n",
    "        item = queue.pop(0)\n",
    "        print(\"Poped item is : \",item)"
   ]
  },
  {
   "cell_type": "markdown",
   "id": "d49d876d-bd25-40ce-9319-9d4913b095a4",
   "metadata": {},
   "source": [
    "### Define a display function which only display the Queue at his current state"
   ]
  },
  {
   "cell_type": "code",
   "execution_count": 4,
   "id": "393a475f-5e83-4474-afb9-dd5a6d4ee02e",
   "metadata": {},
   "outputs": [],
   "source": [
    "def display():\n",
    "    print(queue)"
   ]
  },
  {
   "cell_type": "markdown",
   "id": "500130d3-ccc6-49d8-af3a-417b4e72c1e3",
   "metadata": {},
   "source": [
    "### Get the size of the Queue from the user "
   ]
  },
  {
   "cell_type": "code",
   "execution_count": 6,
   "id": "04de9208-2919-4470-8add-e2e028bbb870",
   "metadata": {},
   "outputs": [
    {
     "name": "stdin",
     "output_type": "stream",
     "text": [
      "Enter the size of the Queue :  5\n"
     ]
    }
   ],
   "source": [
    "size = int(input(\"Enter the size of the Queue : \"))"
   ]
  },
  {
   "cell_type": "markdown",
   "id": "a239075f-71a5-468a-9f40-041822a2ddda",
   "metadata": {},
   "source": [
    "### Write a while loop which will run the code untill the user choice the exit option and the option will be 1. Enqueue ,2. Dequeue 3. Display ,4. Exit "
   ]
  },
  {
   "cell_type": "code",
   "execution_count": null,
   "id": "8c768c5c-a283-4d2e-b527-550d2ad87b62",
   "metadata": {},
   "outputs": [
    {
     "name": "stdout",
     "output_type": "stream",
     "text": [
      "1. Enqueue \n",
      "2. Dequeue \n",
      "3. Display \n",
      "4. Exit\n"
     ]
    }
   ],
   "source": [
    "while True:\n",
    "    print(\"1. Enqueue \\n2. Dequeue \\n3. Display \\n4. Exit\")\n",
    "    choice = int(input())\n",
    "    if choice == 1:\n",
    "        enqueue()\n",
    "    elif choice == 2:\n",
    "        dequeue()\n",
    "    elif choice == 3:\n",
    "        display()\n",
    "    elif choice == 4:\n",
    "        break\n",
    "    else:\n",
    "        print(\"Please enter the rigth option\")"
   ]
  },
  {
   "cell_type": "code",
   "execution_count": null,
   "id": "c354ff3a-8e57-40e4-b4c8-b36926dd52a4",
   "metadata": {},
   "outputs": [],
   "source": []
  }
 ],
 "metadata": {
  "kernelspec": {
   "display_name": "Python 3 (ipykernel)",
   "language": "python",
   "name": "python3"
  },
  "language_info": {
   "codemirror_mode": {
    "name": "ipython",
    "version": 3
   },
   "file_extension": ".py",
   "mimetype": "text/x-python",
   "name": "python",
   "nbconvert_exporter": "python",
   "pygments_lexer": "ipython3",
   "version": "3.11.9"
  }
 },
 "nbformat": 4,
 "nbformat_minor": 5
}
