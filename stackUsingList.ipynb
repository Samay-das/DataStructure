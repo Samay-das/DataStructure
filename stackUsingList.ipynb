{
 "cells": [
  {
   "cell_type": "markdown",
   "id": "810e1324-e80e-46a6-95e1-c1cc57c9e91f",
   "metadata": {},
   "source": [
    "# Stack Implenatation Using List In Python"
   ]
  },
  {
   "cell_type": "markdown",
   "id": "ee530c0c-4bc5-4540-83c4-2b9de5f9b547",
   "metadata": {},
   "source": [
    "### Defining a list named stack"
   ]
  },
  {
   "cell_type": "code",
   "execution_count": 1,
   "id": "dbe55529-acaa-4f6c-8ec8-7006755eb77c",
   "metadata": {},
   "outputs": [],
   "source": [
    "stack = []"
   ]
  },
  {
   "cell_type": "markdown",
   "id": "79dd549c-3eb4-4035-98d1-21fd17032bb1",
   "metadata": {},
   "source": [
    "### Defining a push_item() function which first check if stack is full or not after that if it is not full ask the user for item and that item will be append at the list using append() method of list."
   ]
  },
  {
   "cell_type": "code",
   "execution_count": 5,
   "id": "96f1ef46-c135-42da-8966-910c183ff581",
   "metadata": {},
   "outputs": [],
   "source": [
    "def push_item():\n",
    "    if len(stack) == size:\n",
    "        print(\"Stack is Full\")\n",
    "    else:\n",
    "        item = input(\"Enter the element : \")\n",
    "        stack.append(item)\n",
    "        print(\"Stack : \",stack)"
   ]
  },
  {
   "cell_type": "markdown",
   "id": "7275f508-a2b9-4a9a-89b5-b15cd065dd7e",
   "metadata": {},
   "source": [
    "### Defining a pop_item() function which will first check if the stack is empty or not to pop any item and if it not empty it will pop the last item using the pop() method of list."
   ]
  },
  {
   "cell_type": "code",
   "execution_count": 6,
   "id": "f9b59ff2-dc5c-480e-955c-22863f68b4b9",
   "metadata": {},
   "outputs": [],
   "source": [
    "def pop_item():\n",
    "    if not stack:\n",
    "        print(\"Stack is Empty\")\n",
    "    else:\n",
    "        item = stack.pop()\n",
    "        print(\"Poped item is : \",item)\n",
    "        print(\"Stack : \",stack)"
   ]
  },
  {
   "cell_type": "markdown",
   "id": "d05994e4-8a04-4335-a927-2b7c1016f0b4",
   "metadata": {},
   "source": [
    "### Defining a peek_item() function which will return the last element of stack (item at -1 index position) and will print \"Stack is Empty\" if stack does not have any item in it."
   ]
  },
  {
   "cell_type": "code",
   "execution_count": 9,
   "id": "019e00e1-20d2-4bab-9cd0-793f72a3c062",
   "metadata": {},
   "outputs": [],
   "source": [
    "def seek_item():\n",
    "    if not stack:\n",
    "        print(\"Stack is Empty\")\n",
    "    else:\n",
    "        print(stack[-1])"
   ]
  },
  {
   "cell_type": "markdown",
   "id": "5433f7b8-8312-48d8-9809-1feb8b119a59",
   "metadata": {},
   "source": [
    "### Ask the user for the size of the stack"
   ]
  },
  {
   "cell_type": "code",
   "execution_count": 11,
   "id": "884a52e1-dca6-4b27-9b42-d1c2ac16d381",
   "metadata": {},
   "outputs": [
    {
     "name": "stdin",
     "output_type": "stream",
     "text": [
      "Enter the size of the stack 5\n"
     ]
    }
   ],
   "source": [
    "size = int(input(\"Enter the size of the stack\"))"
   ]
  },
  {
   "cell_type": "markdown",
   "id": "042a4c2e-b6e6-46f6-9b5c-8ad3a3d0b3e8",
   "metadata": {},
   "source": [
    "### Define the while loop in which user has to choose from the following option which will do task according to their option like push,pop,peek and exit"
   ]
  },
  {
   "cell_type": "code",
   "execution_count": null,
   "id": "0af1ffd7-d6a0-4c17-a9b2-63e2e0e53f57",
   "metadata": {},
   "outputs": [
    {
     "name": "stdout",
     "output_type": "stream",
     "text": [
      "1.Push Item \n",
      "2.Pop item \n",
      "3.Peek item \n",
      "4.Exit\n"
     ]
    }
   ],
   "source": [
    "while True:\n",
    "    print(\"1.Push Item \\n2.Pop item \\n3.Peek item \\n4.Exit\")\n",
    "    choice = int(input(\"Enter your choice : \"))\n",
    "    if choice == 1:\n",
    "        push_item()\n",
    "    elif choice == 2:\n",
    "        pop_item()\n",
    "    elif choice == 3:\n",
    "        seek_item()\n",
    "    elif choice == 4:\n",
    "        break\n",
    "    else:\n",
    "        print(\"<=====Please enter the right choice=====>\")"
   ]
  },
  {
   "cell_type": "code",
   "execution_count": null,
   "id": "8faacb9f-d185-4b7c-84b7-b8c07bc56691",
   "metadata": {},
   "outputs": [],
   "source": []
  }
 ],
 "metadata": {
  "kernelspec": {
   "display_name": "Python 3 (ipykernel)",
   "language": "python",
   "name": "python3"
  },
  "language_info": {
   "codemirror_mode": {
    "name": "ipython",
    "version": 3
   },
   "file_extension": ".py",
   "mimetype": "text/x-python",
   "name": "python",
   "nbconvert_exporter": "python",
   "pygments_lexer": "ipython3",
   "version": "3.11.9"
  }
 },
 "nbformat": 4,
 "nbformat_minor": 5
}
